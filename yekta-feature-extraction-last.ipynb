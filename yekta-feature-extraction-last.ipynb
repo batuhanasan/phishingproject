{
 "cells": [
  {
   "cell_type": "code",
   "execution_count": 1,
   "id": "2431dd59-d38a-433d-a179-6db602e8b8ca",
   "metadata": {},
   "outputs": [],
   "source": [
    "# Phishing Website Detection Feature Extraction\n",
    "# Collecting Data legitimate(0) and phishing(1)"
   ]
  },
  {
   "cell_type": "code",
   "execution_count": 2,
   "id": "1c98f009-045e-42fa-be7f-7aba213ec176",
   "metadata": {},
   "outputs": [
    {
     "data": {
      "text/html": [
       "<div>\n",
       "<style scoped>\n",
       "    .dataframe tbody tr th:only-of-type {\n",
       "        vertical-align: middle;\n",
       "    }\n",
       "\n",
       "    .dataframe tbody tr th {\n",
       "        vertical-align: top;\n",
       "    }\n",
       "\n",
       "    .dataframe thead th {\n",
       "        text-align: right;\n",
       "    }\n",
       "</style>\n",
       "<table border=\"1\" class=\"dataframe\">\n",
       "  <thead>\n",
       "    <tr style=\"text-align: right;\">\n",
       "      <th></th>\n",
       "      <th>phish_id</th>\n",
       "      <th>url</th>\n",
       "      <th>phish_detail_url</th>\n",
       "      <th>submission_time</th>\n",
       "      <th>verified</th>\n",
       "      <th>verification_time</th>\n",
       "      <th>online</th>\n",
       "      <th>target</th>\n",
       "    </tr>\n",
       "  </thead>\n",
       "  <tbody>\n",
       "    <tr>\n",
       "      <th>0</th>\n",
       "      <td>6557033</td>\n",
       "      <td>http://u1047531.cp.regruhosting.ru/acces-inges...</td>\n",
       "      <td>http://www.phishtank.com/phish_detail.php?phis...</td>\n",
       "      <td>2020-05-09T22:01:43+00:00</td>\n",
       "      <td>yes</td>\n",
       "      <td>2020-05-09T22:03:07+00:00</td>\n",
       "      <td>yes</td>\n",
       "      <td>Other</td>\n",
       "    </tr>\n",
       "    <tr>\n",
       "      <th>1</th>\n",
       "      <td>6557032</td>\n",
       "      <td>http://hoysalacreations.com/wp-content/plugins...</td>\n",
       "      <td>http://www.phishtank.com/phish_detail.php?phis...</td>\n",
       "      <td>2020-05-09T22:01:37+00:00</td>\n",
       "      <td>yes</td>\n",
       "      <td>2020-05-09T22:03:07+00:00</td>\n",
       "      <td>yes</td>\n",
       "      <td>Other</td>\n",
       "    </tr>\n",
       "    <tr>\n",
       "      <th>2</th>\n",
       "      <td>6557011</td>\n",
       "      <td>http://www.accsystemprblemhelp.site/checkpoint...</td>\n",
       "      <td>http://www.phishtank.com/phish_detail.php?phis...</td>\n",
       "      <td>2020-05-09T21:54:31+00:00</td>\n",
       "      <td>yes</td>\n",
       "      <td>2020-05-09T21:55:38+00:00</td>\n",
       "      <td>yes</td>\n",
       "      <td>Facebook</td>\n",
       "    </tr>\n",
       "    <tr>\n",
       "      <th>3</th>\n",
       "      <td>6557010</td>\n",
       "      <td>http://www.accsystemprblemhelp.site/login_atte...</td>\n",
       "      <td>http://www.phishtank.com/phish_detail.php?phis...</td>\n",
       "      <td>2020-05-09T21:53:48+00:00</td>\n",
       "      <td>yes</td>\n",
       "      <td>2020-05-09T21:54:34+00:00</td>\n",
       "      <td>yes</td>\n",
       "      <td>Facebook</td>\n",
       "    </tr>\n",
       "    <tr>\n",
       "      <th>4</th>\n",
       "      <td>6557009</td>\n",
       "      <td>https://firebasestorage.googleapis.com/v0/b/so...</td>\n",
       "      <td>http://www.phishtank.com/phish_detail.php?phis...</td>\n",
       "      <td>2020-05-09T21:49:27+00:00</td>\n",
       "      <td>yes</td>\n",
       "      <td>2020-05-09T21:51:24+00:00</td>\n",
       "      <td>yes</td>\n",
       "      <td>Microsoft</td>\n",
       "    </tr>\n",
       "  </tbody>\n",
       "</table>\n",
       "</div>"
      ],
      "text/plain": [
       "   phish_id                                                url  \\\n",
       "0   6557033  http://u1047531.cp.regruhosting.ru/acces-inges...   \n",
       "1   6557032  http://hoysalacreations.com/wp-content/plugins...   \n",
       "2   6557011  http://www.accsystemprblemhelp.site/checkpoint...   \n",
       "3   6557010  http://www.accsystemprblemhelp.site/login_atte...   \n",
       "4   6557009  https://firebasestorage.googleapis.com/v0/b/so...   \n",
       "\n",
       "                                    phish_detail_url  \\\n",
       "0  http://www.phishtank.com/phish_detail.php?phis...   \n",
       "1  http://www.phishtank.com/phish_detail.php?phis...   \n",
       "2  http://www.phishtank.com/phish_detail.php?phis...   \n",
       "3  http://www.phishtank.com/phish_detail.php?phis...   \n",
       "4  http://www.phishtank.com/phish_detail.php?phis...   \n",
       "\n",
       "             submission_time verified          verification_time online  \\\n",
       "0  2020-05-09T22:01:43+00:00      yes  2020-05-09T22:03:07+00:00    yes   \n",
       "1  2020-05-09T22:01:37+00:00      yes  2020-05-09T22:03:07+00:00    yes   \n",
       "2  2020-05-09T21:54:31+00:00      yes  2020-05-09T21:55:38+00:00    yes   \n",
       "3  2020-05-09T21:53:48+00:00      yes  2020-05-09T21:54:34+00:00    yes   \n",
       "4  2020-05-09T21:49:27+00:00      yes  2020-05-09T21:51:24+00:00    yes   \n",
       "\n",
       "      target  \n",
       "0      Other  \n",
       "1      Other  \n",
       "2   Facebook  \n",
       "3   Facebook  \n",
       "4  Microsoft  "
      ]
     },
     "execution_count": 2,
     "metadata": {},
     "output_type": "execute_result"
    }
   ],
   "source": [
    "# gerekli olan paket ve kütüphanelerin yüklenmesi\n",
    "import pandas as pd\n",
    "# phishing attack URL verilerinin dataframe'e yüklenmesi\n",
    "data0 = pd.read_csv(\"online-valid-dataset.csv\")\n",
    "data0.head()"
   ]
  },
  {
   "cell_type": "code",
   "execution_count": 3,
   "id": "1a0f1cb2-b582-4524-9021-40bd282868b8",
   "metadata": {},
   "outputs": [],
   "source": [
    "# görüleceği üzere elimizde binlerce phishing attack URL bağlantısı var\n",
    "# fakat bizim ihtiyacımız olan model eğitimi için belirli bir sayıda veri almak\n",
    "# veri dengesizliği riskine girmeden 10,000 adet phishing 5,000 adet legitimate alıyoruz\n",
    "# yukarıdaki dataframe'den rastgele 5000 adet veri çekicez"
   ]
  },
  {
   "cell_type": "code",
   "execution_count": 4,
   "id": "e06ff03a-68d5-4622-adfe-c21b0766e98e",
   "metadata": {},
   "outputs": [
    {
     "data": {
      "text/html": [
       "<div>\n",
       "<style scoped>\n",
       "    .dataframe tbody tr th:only-of-type {\n",
       "        vertical-align: middle;\n",
       "    }\n",
       "\n",
       "    .dataframe tbody tr th {\n",
       "        vertical-align: top;\n",
       "    }\n",
       "\n",
       "    .dataframe thead th {\n",
       "        text-align: right;\n",
       "    }\n",
       "</style>\n",
       "<table border=\"1\" class=\"dataframe\">\n",
       "  <thead>\n",
       "    <tr style=\"text-align: right;\">\n",
       "      <th></th>\n",
       "      <th>phish_id</th>\n",
       "      <th>url</th>\n",
       "      <th>phish_detail_url</th>\n",
       "      <th>submission_time</th>\n",
       "      <th>verified</th>\n",
       "      <th>verification_time</th>\n",
       "      <th>online</th>\n",
       "      <th>target</th>\n",
       "    </tr>\n",
       "  </thead>\n",
       "  <tbody>\n",
       "    <tr>\n",
       "      <th>0</th>\n",
       "      <td>6514946</td>\n",
       "      <td>http://confirmprofileaccount.com/</td>\n",
       "      <td>http://www.phishtank.com/phish_detail.php?phis...</td>\n",
       "      <td>2020-04-19T11:06:55+00:00</td>\n",
       "      <td>yes</td>\n",
       "      <td>2020-04-19T13:42:41+00:00</td>\n",
       "      <td>yes</td>\n",
       "      <td>Other</td>\n",
       "    </tr>\n",
       "    <tr>\n",
       "      <th>1</th>\n",
       "      <td>4927651</td>\n",
       "      <td>http://www.marreme.com/MasterAdmin/04mop.html</td>\n",
       "      <td>http://www.phishtank.com/phish_detail.php?phis...</td>\n",
       "      <td>2017-04-04T19:35:54+00:00</td>\n",
       "      <td>yes</td>\n",
       "      <td>2017-05-03T23:00:42+00:00</td>\n",
       "      <td>yes</td>\n",
       "      <td>Other</td>\n",
       "    </tr>\n",
       "    <tr>\n",
       "      <th>2</th>\n",
       "      <td>5116976</td>\n",
       "      <td>http://modsecpaststudents.com/review/</td>\n",
       "      <td>http://www.phishtank.com/phish_detail.php?phis...</td>\n",
       "      <td>2017-07-25T18:48:30+00:00</td>\n",
       "      <td>yes</td>\n",
       "      <td>2017-07-28T16:01:36+00:00</td>\n",
       "      <td>yes</td>\n",
       "      <td>Other</td>\n",
       "    </tr>\n",
       "    <tr>\n",
       "      <th>3</th>\n",
       "      <td>6356131</td>\n",
       "      <td>https://docs.google.com/forms/d/e/1FAIpQLScL6L...</td>\n",
       "      <td>http://www.phishtank.com/phish_detail.php?phis...</td>\n",
       "      <td>2020-01-13T20:13:37+00:00</td>\n",
       "      <td>yes</td>\n",
       "      <td>2020-01-17T01:55:38+00:00</td>\n",
       "      <td>yes</td>\n",
       "      <td>Other</td>\n",
       "    </tr>\n",
       "    <tr>\n",
       "      <th>4</th>\n",
       "      <td>6535965</td>\n",
       "      <td>https://oportunidadedasemana.com/americanas//?...</td>\n",
       "      <td>http://www.phishtank.com/phish_detail.php?phis...</td>\n",
       "      <td>2020-04-29T00:01:03+00:00</td>\n",
       "      <td>yes</td>\n",
       "      <td>2020-05-01T10:55:35+00:00</td>\n",
       "      <td>yes</td>\n",
       "      <td>Other</td>\n",
       "    </tr>\n",
       "  </tbody>\n",
       "</table>\n",
       "</div>"
      ],
      "text/plain": [
       "   phish_id                                                url  \\\n",
       "0   6514946                  http://confirmprofileaccount.com/   \n",
       "1   4927651      http://www.marreme.com/MasterAdmin/04mop.html   \n",
       "2   5116976              http://modsecpaststudents.com/review/   \n",
       "3   6356131  https://docs.google.com/forms/d/e/1FAIpQLScL6L...   \n",
       "4   6535965  https://oportunidadedasemana.com/americanas//?...   \n",
       "\n",
       "                                    phish_detail_url  \\\n",
       "0  http://www.phishtank.com/phish_detail.php?phis...   \n",
       "1  http://www.phishtank.com/phish_detail.php?phis...   \n",
       "2  http://www.phishtank.com/phish_detail.php?phis...   \n",
       "3  http://www.phishtank.com/phish_detail.php?phis...   \n",
       "4  http://www.phishtank.com/phish_detail.php?phis...   \n",
       "\n",
       "             submission_time verified          verification_time online target  \n",
       "0  2020-04-19T11:06:55+00:00      yes  2020-04-19T13:42:41+00:00    yes  Other  \n",
       "1  2017-04-04T19:35:54+00:00      yes  2017-05-03T23:00:42+00:00    yes  Other  \n",
       "2  2017-07-25T18:48:30+00:00      yes  2017-07-28T16:01:36+00:00    yes  Other  \n",
       "3  2020-01-13T20:13:37+00:00      yes  2020-01-17T01:55:38+00:00    yes  Other  \n",
       "4  2020-04-29T00:01:03+00:00      yes  2020-05-01T10:55:35+00:00    yes  Other  "
      ]
     },
     "execution_count": 4,
     "metadata": {},
     "output_type": "execute_result"
    }
   ],
   "source": [
    "# rastgele 5,000 adet phishing URL'sini çekiyoruz\n",
    "phishurl = data0.sample(n = 5000, random_state = 12).copy()\n",
    "phishurl = phishurl.reset_index(drop=True)\n",
    "phishurl.head()"
   ]
  },
  {
   "cell_type": "code",
   "execution_count": 5,
   "id": "02caf4c9-260e-4eb5-a06b-dc2cb9f94cd4",
   "metadata": {},
   "outputs": [
    {
     "data": {
      "text/plain": [
       "(5000, 8)"
      ]
     },
     "execution_count": 5,
     "metadata": {},
     "output_type": "execute_result"
    }
   ],
   "source": [
    "# çekilen verilerin kontrol edilmesi\n",
    "phishurl.shape"
   ]
  },
  {
   "cell_type": "code",
   "execution_count": 6,
   "id": "ec707985-042d-4dce-b497-1860811fabfd",
   "metadata": {},
   "outputs": [],
   "source": [
    "# phishing olan verilerimizi topladık, şimdi legal (legitimate) olan verileri topluycaz\n",
    "# legal olan verilerin bulunduğu dosyayı yüklüyoruz, verileri ayıklıyoruz"
   ]
  },
  {
   "cell_type": "code",
   "execution_count": 7,
   "id": "052ede66-9e55-4f5e-bd80-d3d37b1441d2",
   "metadata": {},
   "outputs": [
    {
     "data": {
      "text/html": [
       "<div>\n",
       "<style scoped>\n",
       "    .dataframe tbody tr th:only-of-type {\n",
       "        vertical-align: middle;\n",
       "    }\n",
       "\n",
       "    .dataframe tbody tr th {\n",
       "        vertical-align: top;\n",
       "    }\n",
       "\n",
       "    .dataframe thead th {\n",
       "        text-align: right;\n",
       "    }\n",
       "</style>\n",
       "<table border=\"1\" class=\"dataframe\">\n",
       "  <thead>\n",
       "    <tr style=\"text-align: right;\">\n",
       "      <th></th>\n",
       "      <th>URLs</th>\n",
       "    </tr>\n",
       "  </thead>\n",
       "  <tbody>\n",
       "    <tr>\n",
       "      <th>0</th>\n",
       "      <td>http://1337x.to/torrent/1110018/Blackhat-2015-...</td>\n",
       "    </tr>\n",
       "    <tr>\n",
       "      <th>1</th>\n",
       "      <td>http://1337x.to/torrent/1122940/Blackhat-2015-...</td>\n",
       "    </tr>\n",
       "    <tr>\n",
       "      <th>2</th>\n",
       "      <td>http://1337x.to/torrent/1124395/Fast-and-Furio...</td>\n",
       "    </tr>\n",
       "    <tr>\n",
       "      <th>3</th>\n",
       "      <td>http://1337x.to/torrent/1145504/Avengers-Age-o...</td>\n",
       "    </tr>\n",
       "    <tr>\n",
       "      <th>4</th>\n",
       "      <td>http://1337x.to/torrent/1160078/Avengers-age-o...</td>\n",
       "    </tr>\n",
       "  </tbody>\n",
       "</table>\n",
       "</div>"
      ],
      "text/plain": [
       "                                                URLs\n",
       "0  http://1337x.to/torrent/1110018/Blackhat-2015-...\n",
       "1  http://1337x.to/torrent/1122940/Blackhat-2015-...\n",
       "2  http://1337x.to/torrent/1124395/Fast-and-Furio...\n",
       "3  http://1337x.to/torrent/1145504/Avengers-Age-o...\n",
       "4  http://1337x.to/torrent/1160078/Avengers-age-o..."
      ]
     },
     "execution_count": 7,
     "metadata": {},
     "output_type": "execute_result"
    }
   ],
   "source": [
    "# legal olan verilerinin dataframe'e yüklenmesi\n",
    "data1 = pd.read_csv(\"benign-list-big-final-dataset.csv\")\n",
    "data1.columns = ['URLs']\n",
    "data1.head()"
   ]
  },
  {
   "cell_type": "code",
   "execution_count": 8,
   "id": "a232ebc1-462f-4058-87bc-f65d99d2015e",
   "metadata": {},
   "outputs": [],
   "source": [
    "# yukarıdaki dataframe'den 5,000 adet legitimate URL topluyoruz"
   ]
  },
  {
   "cell_type": "code",
   "execution_count": 9,
   "id": "6ca53043-a73b-44d9-ac7d-5f784f6012bc",
   "metadata": {},
   "outputs": [
    {
     "data": {
      "text/html": [
       "<div>\n",
       "<style scoped>\n",
       "    .dataframe tbody tr th:only-of-type {\n",
       "        vertical-align: middle;\n",
       "    }\n",
       "\n",
       "    .dataframe tbody tr th {\n",
       "        vertical-align: top;\n",
       "    }\n",
       "\n",
       "    .dataframe thead th {\n",
       "        text-align: right;\n",
       "    }\n",
       "</style>\n",
       "<table border=\"1\" class=\"dataframe\">\n",
       "  <thead>\n",
       "    <tr style=\"text-align: right;\">\n",
       "      <th></th>\n",
       "      <th>URLs</th>\n",
       "    </tr>\n",
       "  </thead>\n",
       "  <tbody>\n",
       "    <tr>\n",
       "      <th>0</th>\n",
       "      <td>http://graphicriver.net/search?date=this-month...</td>\n",
       "    </tr>\n",
       "    <tr>\n",
       "      <th>1</th>\n",
       "      <td>http://ecnavi.jp/redirect/?url=http://www.cros...</td>\n",
       "    </tr>\n",
       "    <tr>\n",
       "      <th>2</th>\n",
       "      <td>https://hubpages.com/signin?explain=follow+Hub...</td>\n",
       "    </tr>\n",
       "    <tr>\n",
       "      <th>3</th>\n",
       "      <td>http://extratorrent.cc/torrent/4190536/AOMEI+B...</td>\n",
       "    </tr>\n",
       "    <tr>\n",
       "      <th>4</th>\n",
       "      <td>http://icicibank.com/Personal-Banking/offers/o...</td>\n",
       "    </tr>\n",
       "  </tbody>\n",
       "</table>\n",
       "</div>"
      ],
      "text/plain": [
       "                                                URLs\n",
       "0  http://graphicriver.net/search?date=this-month...\n",
       "1  http://ecnavi.jp/redirect/?url=http://www.cros...\n",
       "2  https://hubpages.com/signin?explain=follow+Hub...\n",
       "3  http://extratorrent.cc/torrent/4190536/AOMEI+B...\n",
       "4  http://icicibank.com/Personal-Banking/offers/o..."
      ]
     },
     "execution_count": 9,
     "metadata": {},
     "output_type": "execute_result"
    }
   ],
   "source": [
    "# rastgele 5,000 adet legitimate URL'sini çekiyoruz\n",
    "legiurl = data1.sample(n = 5000, random_state = 12).copy()\n",
    "legiurl = legiurl.reset_index(drop=True)\n",
    "legiurl.head()"
   ]
  },
  {
   "cell_type": "code",
   "execution_count": 10,
   "id": "cd3a541b-8b27-4e1a-b004-b958c8f744fc",
   "metadata": {},
   "outputs": [
    {
     "data": {
      "text/plain": [
       "(5000, 1)"
      ]
     },
     "execution_count": 10,
     "metadata": {},
     "output_type": "execute_result"
    }
   ],
   "source": [
    "# çekilen verilerin kontrol edilmesi\n",
    "legiurl.shape"
   ]
  },
  {
   "cell_type": "code",
   "execution_count": 11,
   "id": "747b0522-d86a-439f-958c-c171cc5cba83",
   "metadata": {},
   "outputs": [],
   "source": [
    "# FEATURE EXTRACTION: bu aşamada verilerden özelliklerini çıkarıcaz\n",
    "# çıkarılan özellikleri şu şekilde sınıflandırıcaz;\n",
    "# - Address Bar Tabanlı Özellikler\n",
    "# - Domain Alanı Tabanlı Özellikler\n",
    "# - HTML ve Javascript Tabanlı Özellikler"
   ]
  },
  {
   "cell_type": "code",
   "execution_count": 12,
   "id": "0c7d4156-78fa-43c5-90f1-6222b7c0c409",
   "metadata": {},
   "outputs": [],
   "source": [
    "# Address Bar Tabanlı Özellikler;\n",
    "# çıkarılabilecek özellikler aşağıda listelenmiştir;\n",
    "# Domain of URL\n",
    "# IP Address in URL\n",
    "# \"@\" Symbol in URL\n",
    "# Length of URL\n",
    "# Depth of URL\n",
    "# Redirection \"//\" in URL\n",
    "# \"http/https\" in Domain name\n",
    "# Using URL Shortening Services “TinyURL”\n",
    "# Prefix or Suffix \"-\" in Domain\n",
    "# bu özelliklerin her biri ayıklanırken açıklamasını yapıyor olucaz"
   ]
  },
  {
   "cell_type": "code",
   "execution_count": 13,
   "id": "b18f886f-1c12-4748-afdc-0e0c5954c8ba",
   "metadata": {},
   "outputs": [],
   "source": [
    "# gerekli olan paket ve kütüphanelerin yüklenmesi\n",
    "from urllib.parse import urlparse,urlencode\n",
    "import ipaddress\n",
    "import re"
   ]
  },
  {
   "cell_type": "code",
   "execution_count": 14,
   "id": "81ba1481-6cda-49f4-94b3-6f9e8bc95c0f",
   "metadata": {},
   "outputs": [],
   "source": [
    "# Domain of URL: burada sadece URL'de bulunan etki alanını (domain) çıkarıyoruz\n",
    "# bu özelliğin eğitimde pek bir önemi yoktur, hatta modeli eğitirken droplanabilir\n",
    "def getDomain(url):  \n",
    "  domain = urlparse(url).netloc\n",
    "  if re.match(r\"^www.\",domain):\n",
    "\t       domain = domain.replace(\"www.\",\"\")\n",
    "  return domain"
   ]
  },
  {
   "cell_type": "code",
   "execution_count": 15,
   "id": "2957fec8-171c-4b34-989f-85b4ec3cd6bf",
   "metadata": {},
   "outputs": [],
   "source": [
    "# IP Address in URL: IP adresinin varlığını kontrol eder\n",
    "# URL'ler etki alanı (domain) yerine IP adresi bulundurabilir\n",
    "# domain yerine IP adresi kullanılıyorsa bu birisinin URL aracılığıyla\n",
    "# verileri çalmaya çalıştığından emin olmamıza sebep olacak bir durumdur\n",
    "def havingIP(url):\n",
    "  try:\n",
    "    ipaddress.ip_address(url)\n",
    "    ip = 1 # phishing\n",
    "  except:\n",
    "    ip = 0 # legitimate\n",
    "  return ip"
   ]
  },
  {
   "cell_type": "code",
   "execution_count": 16,
   "id": "dd3cc5ad-c76b-4192-88ea-4069ff398d48",
   "metadata": {},
   "outputs": [],
   "source": [
    "# \"@\" Symbol in URL: burada URL içerisinde @ olup olmadığına bakıyoruz\n",
    "# URL içerisinde @ simgesinin kullanılması, tarayıcının @ öncesindeki herşeyi\n",
    "# gözardı ederek @ simgesinden sonraki bağlantıya yönlendirilmesine sebep olur\n",
    "# bu tarz bağlantılarda genelde sizi yönlendirmek istedikleri asıl bağlantı\n",
    "# @ simgesinden sonra gelir, bu sayede güvenli bir site aracılığya sizi tuzağa çekerler\n",
    "def haveAtSign(url):\n",
    "  if \"@\" in url:\n",
    "    at = 1 # phishing    \n",
    "  else:\n",
    "    at = 0 # legitimate    \n",
    "  return at"
   ]
  },
  {
   "cell_type": "code",
   "execution_count": 17,
   "id": "3699b281-31c5-418f-85a2-b89558b77f14",
   "metadata": {},
   "outputs": [],
   "source": [
    "# Length of URL: bağlantının uzunluğu, URL bağlantısının uzunluğu çok önemlidir\n",
    "# kimlik avı yapan şahıslar şüpheli kısımları gizlemek için uzun bağlantıları kullanır\n",
    "# eğer URL'in uzunluğu  54'den büyük veya eşitse; kimlik avı riski mevcuttur\n",
    "def getLength(url):\n",
    "  if len(url) < 54:\n",
    "    length = 0 # legitimate             \n",
    "  else:\n",
    "    length = 1 # phishing            \n",
    "  return length"
   ]
  },
  {
   "cell_type": "code",
   "execution_count": 18,
   "id": "83eb7fe4-8bab-4c1c-8f8a-7b1c655d973f",
   "metadata": {},
   "outputs": [],
   "source": [
    "# Depth of URL: bağlantının derinliği, alt sayfaların sayısını hesaplar\n",
    "# bağlantı içerisindeki \"/\" işaretinin sayısına göre URL derinliğini ölçer\n",
    "def getDepth(url):\n",
    "  s = urlparse(url).path.split('/')\n",
    "  depth = 0\n",
    "  for j in range(len(s)):\n",
    "    if len(s[j]) != 0:\n",
    "      depth = depth+1\n",
    "  return depth"
   ]
  },
  {
   "cell_type": "code",
   "execution_count": 19,
   "id": "f1c3ce19-04eb-4b81-8c28-cfdcb10559ca",
   "metadata": {},
   "outputs": [],
   "source": [
    "# Redirection \"//\" in URL: bağlantıda yönlendirme varlığı\n",
    "# eğer bağlantıda \"//\" mevcutsa kullanıcı başka bir siteye yönlendirilebilir\n",
    "# URL'deki \"//\" işaretinin konumu hesaplanır. eğer URL \"http\" ile başlıyorsa,\n",
    "# \"//\" işaretinin 6. konumda görünmesi gerektiği anlamına geldiğini biliyoruz\n",
    "# ancak eğer URL \"https\" ile başlıyorsa \"//\" işaretinin 7. konumda olması gerekiyor\n",
    "# protokol sonrası dışında \"//\" işareti herhangi bir konumdaysa kimlik avı olabilir\n",
    "def redirection(url):\n",
    "  pos = url.rfind('//')\n",
    "  if pos > 6:\n",
    "    if pos > 7:\n",
    "      return 1 # phishing  \n",
    "    else:\n",
    "      return 0 # legitimate  \n",
    "  else:\n",
    "    return 0 # legitimate  "
   ]
  },
  {
   "cell_type": "code",
   "execution_count": 20,
   "id": "dc062a32-bfe4-46a7-8560-3d22a0bae40a",
   "metadata": {},
   "outputs": [],
   "source": [
    "# \"http/https\" in Domain Name; bağlantıda \"http/https\" olup olmadığını kontrol eder\n",
    "# kimlik avcıları kullancıyı tuzağa düşürmek için domain kısmına \"https\" ekleyebilir\n",
    "def httpDomain(url):\n",
    "  domain = urlparse(url).netloc\n",
    "  if 'https' in domain:\n",
    "    return 1 # phishing  \n",
    "  else:\n",
    "    return 0 # legitimate "
   ]
  },
  {
   "cell_type": "code",
   "execution_count": 21,
   "id": "4504baf4-b62a-4321-ae26-827a1e80183a",
   "metadata": {},
   "outputs": [],
   "source": [
    "# URL Kısaltma Servisleri Hakkında"
   ]
  },
  {
   "cell_type": "code",
   "execution_count": 22,
   "id": "baff66cb-a598-4eb1-be11-b03c464f38a6",
   "metadata": {},
   "outputs": [],
   "source": [
    "shortening_services = r\"bit\\.ly|goo\\.gl|shorte\\.st|go2l\\.ink|x\\.co|ow\\.ly|t\\.co|tinyurl|tr\\.im|is\\.gd|cli\\.gs|\" \\\n",
    "                      r\"yfrog\\.com|migre\\.me|ff\\.im|tiny\\.cc|url4\\.eu|twit\\.ac|su\\.pr|twurl\\.nl|snipurl\\.com|\" \\\n",
    "                      r\"short\\.to|BudURL\\.com|ping\\.fm|post\\.ly|Just\\.as|bkite\\.com|snipr\\.com|fic\\.kr|loopt\\.us|\" \\\n",
    "                      r\"doiop\\.com|short\\.ie|kl\\.am|wp\\.me|rubyurl\\.com|om\\.ly|to\\.ly|bit\\.do|t\\.co|lnkd\\.in|db\\.tt|\" \\\n",
    "                      r\"qr\\.ae|adf\\.ly|goo\\.gl|bitly\\.com|cur\\.lv|tinyurl\\.com|ow\\.ly|bit\\.ly|ity\\.im|q\\.gs|is\\.gd|\" \\\n",
    "                      r\"po\\.st|bc\\.vc|twitthis\\.com|u\\.to|j\\.mp|buzurl\\.com|cutt\\.us|u\\.bb|yourls\\.org|x\\.co|\" \\\n",
    "                      r\"prettylinkpro\\.com|scrnch\\.me|filoops\\.info|vzturl\\.com|qr\\.net|1url\\.com|tweez\\.me|v\\.gd|\" \\\n",
    "                      r\"tr\\.im|link\\.zip\\.net\""
   ]
  },
  {
   "cell_type": "code",
   "execution_count": 23,
   "id": "3939ab1d-528e-4ba7-8c93-7b28628df27e",
   "metadata": {},
   "outputs": [],
   "source": [
    "# Using URL Shortening Services “TinyURL”: URL kısaltma servisleri\n",
    "# internet üzerinde uzun ve karmaşık bir bağlantının ciddi oranda küçültüldüğü,\n",
    "# ve yerine çok daha kısa bir link sunarak gerekli web sayfasına yönlendirdiği,\n",
    "# HTTP yönlendirmesi aracılığıyla gerçekleştirilen kimlik avı yöntemidir.\n",
    "def tinyURL(url):\n",
    "    match=re.search(shortening_services,url)\n",
    "    if match:\n",
    "        return 1 # phishing\n",
    "    else:\n",
    "        return 0 # legitimate"
   ]
  },
  {
   "cell_type": "code",
   "execution_count": 24,
   "id": "47fe139d-94e3-4aaf-9416-b03ac3a732b1",
   "metadata": {},
   "outputs": [],
   "source": [
    "# Prefix or Suffix \"-\" in Domain: bağlantıda \"-\" varlığını kontrol eder\n",
    "# Çizgi simgesi legal URL'lerde nadiren kullanılır\n",
    "# kimlik avı yapanlar, domainde \"-\" ile ayrılmış ekler kullanarak\n",
    "# kullanıcıların legal bir web sayfasına girdiklerini düşünmesini sağlar\n",
    "def prefixSuffix(url):\n",
    "    if '-' in urlparse(url).netloc:\n",
    "        return 1 # phishing\n",
    "    else:\n",
    "        return 0 # legitimate"
   ]
  },
  {
   "cell_type": "code",
   "execution_count": 25,
   "id": "8edf818b-2247-440e-96ed-f7c5f2f94293",
   "metadata": {},
   "outputs": [],
   "source": [
    "# Domain Tabanlı Özellikler;\n",
    "# bu kategoride birçok özellik çıkarılabilir\n",
    "# biz en önemli olanları dikkate alıyor olucaz\n",
    "# çıkarılabilecek özellikler aşağıda listelenmiştir;\n",
    "# - DNS Record\n",
    "# - Website Traffic\n",
    "# - Age of Domain\n",
    "# - End Period of Domain\n",
    "# bu özelliklerin her biri ayıklanırken açıklamasını yapıyor olucaz"
   ]
  },
  {
   "cell_type": "code",
   "execution_count": 26,
   "id": "485b8c64-f50c-48c2-a215-e97397ff0a01",
   "metadata": {},
   "outputs": [
    {
     "name": "stdout",
     "output_type": "stream",
     "text": [
      "Requirement already satisfied: python-whois in c:\\users\\yekta\\appdata\\local\\programs\\python\\python311\\lib\\site-packages (0.9.4)\n",
      "Requirement already satisfied: python-dateutil in c:\\users\\yekta\\appdata\\roaming\\python\\python311\\site-packages (from python-whois) (2.8.2)\n",
      "Requirement already satisfied: six>=1.5 in c:\\users\\yekta\\appdata\\roaming\\python\\python311\\site-packages (from python-dateutil->python-whois) (1.16.0)\n"
     ]
    }
   ],
   "source": [
    "# gerekli olan paket ve kütüphanelerin yüklenmesi\n",
    "!pip install python-whois"
   ]
  },
  {
   "cell_type": "code",
   "execution_count": 27,
   "id": "7f0e873a-4c30-4b91-851a-eb55f9f5e85b",
   "metadata": {},
   "outputs": [],
   "source": [
    "# gerekli olan paket ve kütüphanelerin yüklenmesi\n",
    "import re\n",
    "from bs4 import BeautifulSoup\n",
    "import whois\n",
    "import urllib\n",
    "import urllib.request\n",
    "from datetime import datetime"
   ]
  },
  {
   "cell_type": "code",
   "execution_count": 28,
   "id": "beb4f681-1b0e-4fc4-87ff-e3e644067319",
   "metadata": {},
   "outputs": [],
   "source": [
    "# DNS Record: phishing yapılan sitelerde kimliğin WHOIS veritabanında bulunmaması\n",
    "# kimlik avı yapılan web sitelerinde iddia edilen kimliğin WHOIS veritabanı üzerinde\n",
    "# yapılan kontrolde çıkmaması, kimliğin tanınmıyor olması veya ana makine adı için\n",
    "# hiçbir kayıp oluşturulmamış olması durumudur. DNS kaydının boş olması veyahut\n",
    "# bulunamıyor olması durumunda phishing attack söz konusu olabilir\n",
    "\n",
    "# NOT: \"DNS Record\" işlemi \"featureExtraction\" fonksiyonu içinde yapılmaktadır!"
   ]
  },
  {
   "cell_type": "code",
   "execution_count": 29,
   "id": "5eb62dcd-e03b-4b80-9c64-23ab8feb7555",
   "metadata": {},
   "outputs": [
    {
     "name": "stdout",
     "output_type": "stream",
     "text": [
      "URL error: [Errno 11001] getaddrinfo failed\n",
      "1\n"
     ]
    }
   ],
   "source": [
    "# Web Traffic: ziyaretçi sayısını ve ziyaret edilen sayfa sayısını ölçer\n",
    "# web sitesinin ziyaret sayısı ve ziyaret durumunu kullanarak popülerliğini ölçer,\n",
    "# kimlik avında kullanılan birçoğu website kısa bir süreliğine ayakta kaldığı için\n",
    "# bu tarz siteler Alexa (Web Information Company) veri tabanında tanınmayabilirler.\n",
    "# Ayrıca domain trafiği yoksa veya Alexa'da tanınmıyorsa phishing attack olabilir\n",
    "\n",
    "def web_traffic(url):\n",
    "    try:\n",
    "        # URL'yi kodlayarak geçersiz karakterleri kaldırın\n",
    "        encoded_url = urllib.parse.quote(url, safe=':/')\n",
    "        response = urllib.request.urlopen(f\"http://data.alexa.com/data?cli=10&dat=s&url={encoded_url}\", timeout=10)\n",
    "        soup = BeautifulSoup(response.read(), \"xml\")\n",
    "        reach = soup.find(\"REACH\")\n",
    "        \n",
    "        # REACH bulunamadığında rank'e 1 ata\n",
    "        if reach is None:\n",
    "            return 1\n",
    "        \n",
    "        rank = int(reach['RANK'])\n",
    "        \n",
    "    except urllib.error.URLError as e:\n",
    "        print(f\"URL error: {e.reason}\")\n",
    "        return 1\n",
    "    except Exception as e:\n",
    "        print(f\"General error: {str(e)}\")\n",
    "        return 1\n",
    "    \n",
    "    # Rank kontrolü\n",
    "    if rank < 100000:\n",
    "        return 1 # phishing\n",
    "    else:\n",
    "        return 0 # legitimate\n",
    "\n",
    "# Test URL\n",
    "test_url = \"http://www.example.com\"\n",
    "print(web_traffic(test_url))\n",
    "\n",
    "# veri setimizi temin ettiğimiz kullanıcılar bu veri setinin sahip olduğu URL'ler hakkında\n",
    "# en kötü senaryolarda bile legal web sitelerinin ilk 100,000'de yer aldığını belirttiği için\n",
    "# biz de onların kullandığı yöntemlere göre hareket ediyoruz."
   ]
  },
  {
   "cell_type": "code",
   "execution_count": 30,
   "id": "eb602ece-64c9-4902-b116-04806be2c20f",
   "metadata": {},
   "outputs": [],
   "source": [
    "# Age of Domain: domain adının yaşını tespit eder\n",
    "# bu özellik de DNS Record ile benzer şekilde WHOIS veri tabanından çıkarılabilir\n",
    "# kimlik avı yapılan web sitelerin çoğu kısa bir süre ayakta kalır diye söylemiştik\n",
    "# yaptığımız araştırmalar sonucunda alan adı yaşını min. 6 ay tercih ettik\n",
    "# buradaki süre, oluşturulma ve son bulma arasında geçen zamandır\n",
    "def domainAge(domain_name):\n",
    "  creation_date = domain_name.creation_date\n",
    "  expiration_date = domain_name.expiration_date\n",
    "  if (isinstance(creation_date,str) or isinstance(expiration_date,str)):\n",
    "    try:\n",
    "      creation_date = datetime.strptime(creation_date,'%Y-%m-%d')\n",
    "      expiration_date = datetime.strptime(expiration_date,\"%Y-%m-%d\")\n",
    "    except:\n",
    "      return 1\n",
    "  if ((expiration_date is None) or (creation_date is None)):\n",
    "      return 1\n",
    "  elif ((type(expiration_date) is list) or (type(creation_date) is list)):\n",
    "      return 1\n",
    "  else:\n",
    "    ageofdomain = abs((expiration_date - creation_date).days)\n",
    "    if ((ageofdomain/30) < 6):\n",
    "      age = 1 # phishing\n",
    "    else:\n",
    "      age = 0 # legitimate\n",
    "  return age"
   ]
  },
  {
   "cell_type": "code",
   "execution_count": 31,
   "id": "b74513ae-fd9e-41e5-9497-0d0416a97c86",
   "metadata": {},
   "outputs": [],
   "source": [
    "# End Period of Domain: alan adının bitiş süresini tespit eder\n",
    "# yine bu özellik de WHOIS veri tabanından çıkarılabilir\n",
    "# domain'in son kullanım süresini hesaplar (anlık saat ile son kullanma tarihi arası)\n",
    "# yaptığımız araştırmalarda legal sitelerin alan adı bitiş süresini 6 aydan düşük tespit ettik\n",
    "# eğer bitiş süresi için 6 ay veya daha fazla bir süre kaldıysa phishing attack olabilir\n",
    "def domainEnd(domain_name):\n",
    "  expiration_date = domain_name.expiration_date\n",
    "  if isinstance(expiration_date,str):\n",
    "    try:\n",
    "      expiration_date = datetime.strptime(expiration_date,\"%Y-%m-%d\")\n",
    "    except:\n",
    "      return 1\n",
    "  if (expiration_date is None):\n",
    "      return 1\n",
    "  elif (type(expiration_date) is list):\n",
    "      return 1\n",
    "  else:\n",
    "    today = datetime.now()\n",
    "    end = abs((expiration_date - today).days)\n",
    "    if ((end/30) < 6):\n",
    "      end = 0 # legitimate\n",
    "    else:\n",
    "      end = 1 # phishing\n",
    "  return end"
   ]
  },
  {
   "cell_type": "code",
   "execution_count": 32,
   "id": "d1fc80d2-99d2-4b64-8171-bd27697c353d",
   "metadata": {},
   "outputs": [],
   "source": [
    "# HTML ve Javascript Tabanlı Özellikler;\n",
    "# bu kategoride birçok özellik çıkarılabilir\n",
    "# biz en önemli olanları dikkate alıyor olucaz\n",
    "# çıkarılabilecek özellikler aşağıda listelenmiştir;\n",
    "# - IFrame Redirection\n",
    "# - Status Bar Customization\n",
    "# - Disabling Right Click\n",
    "# - Website Forwarding\n",
    "# bu özelliklerin her biri ayıklanırken açıklamasını yapıyor olucaz"
   ]
  },
  {
   "cell_type": "code",
   "execution_count": 33,
   "id": "d9906fb4-7eab-4818-960e-7ab4d8b0ebd8",
   "metadata": {},
   "outputs": [],
   "source": [
    "# gerekli olan paket ve kütüphanelerin yüklenmesi\n",
    "import requests"
   ]
  },
  {
   "cell_type": "code",
   "execution_count": 34,
   "id": "71fb5c10-6141-4c4c-a3a8-fda4c7546039",
   "metadata": {},
   "outputs": [],
   "source": [
    "# IFrame Redirection: ek bir sayfayı görüntülemek için kullanılan HTML etiketi\n",
    "# kimlik avı yapanlar \"iframe\" etiketini kullanabilir ve onu görünmez hale getirebilir\n",
    "# bu bağlamda kimlik avı yapanlar tarayıcının görsel bir tanımlama yapmasına\n",
    "# imkan sağlayan \"frameBorder\" özelliğini kullanıyorlar\n",
    "def iframe(response):\n",
    "  if response == \"\":\n",
    "      return 1\n",
    "  else:\n",
    "      if re.findall(r\"[<iframe>|<frameBorder>]\", response.text):\n",
    "          return 0 # legitimate\n",
    "      else:\n",
    "          return 1 # phishing"
   ]
  },
  {
   "cell_type": "code",
   "execution_count": 35,
   "id": "cfc99b0b-b498-4ff6-8821-7f1be08f032e",
   "metadata": {},
   "outputs": [],
   "source": [
    "# Status Bar Customization: durum çubuğunda sahte URL göstermek\n",
    "# kimlik avı yapanlar kullanıcıları kandırmak için bu yöntemi tercih eder\n",
    "# bu yöntemi uygularken JavaScript kullanırlar\n",
    "# bu özelliği çıkarmak için web sitesinin kaynak kodunu, özellikle \"onMouseOver\"\n",
    "# etkinliğinin durum çubuğunda bir değişiklik yapıp yapmadığını kontrol etmeliyiz\n",
    "def mouseOver(response): \n",
    "  if response == \"\" :\n",
    "    return 1\n",
    "  else:\n",
    "    if re.findall(\"<script>.+onmouseover.+</script>\", response.text):\n",
    "      return 1 # phishing\n",
    "    else:\n",
    "      return 0 # legitimate"
   ]
  },
  {
   "cell_type": "code",
   "execution_count": 36,
   "id": "0c1ead25-3b9d-4810-b18d-54bbfcbceda5",
   "metadata": {},
   "outputs": [],
   "source": [
    "# Disabling Right Click: sağ tıklamayı devre dışı bırakmak\n",
    "# kimlik avı yapanlar, kullanıcının web sayfasının kaynak kodunu görüntüleyememesi\n",
    "# veya kaydedememesi için JavaScript kullanarak sağ tıklama işlemini devre dışı bırakır\n",
    "# Bu özellik tam olarak \"using onMouseOver to hide the Link\" olarak değerlendirilir\n",
    "# Ancak bu özellik için web sitesinin kaynak kodunda \"event.button==2\" etkinliğini\n",
    "# kontrol edicez ve sağ tıklamanın devre dışı bırakılıp bırakılmadığına bakıcaz\n",
    "def rightClick(response):\n",
    "  if response == \"\":\n",
    "    return 1\n",
    "  else:\n",
    "    if re.findall(r\"event.button ?== ?2\", response.text):\n",
    "      return 0 # legitimate\n",
    "    else:\n",
    "      return 1 # phishing"
   ]
  },
  {
   "cell_type": "code",
   "execution_count": 37,
   "id": "da77cea8-72b4-437c-bcdb-80d813ffbd36",
   "metadata": {},
   "outputs": [],
   "source": [
    "# Website Forwarding: web sitesinin kaç kez yönlendirildiği\n",
    "# legal web siteleri genellikle en fazla bir kez yönlendirilmektedir\n",
    "# kimlik avı için kullanılan sitelerse ise bu sayı ortalama 4 kezdir\n",
    "# yaptığımız araştırmalar bize bu sonucu verdi (kullanılan veri setine göre değişebilir)\n",
    "def forwarding(response):\n",
    "  if response == \"\":\n",
    "    return 1\n",
    "  else:\n",
    "    if len(response.history) <= 2:\n",
    "      return 0 # legitimate\n",
    "    else:\n",
    "      return 1 # phishing"
   ]
  },
  {
   "cell_type": "code",
   "execution_count": 38,
   "id": "618d4067-f6c2-4ba8-a526-39bbb04ae2f4",
   "metadata": {},
   "outputs": [],
   "source": [
    "# COMPUTING URL FEATURES: Özelliklerin toplanması\n",
    "# tüm özellikleri listede saklayan bir fonksiyon oluşturucaz\n",
    "# her URL için bu özellikleri çıkarıp bu listeye ekliycez"
   ]
  },
  {
   "cell_type": "code",
   "execution_count": 39,
   "id": "cfb7ad1c-30eb-421d-aeeb-1bb04da8b976",
   "metadata": {},
   "outputs": [],
   "source": [
    "# özellik çıkarma fonksiyonu\n",
    "def featureExtraction(url,label):\n",
    "\n",
    "  features = []\n",
    "  # Address Bar tabanlı özellikler (10)\n",
    "  features.append(getDomain(url))\n",
    "  features.append(havingIP(url))\n",
    "  features.append(haveAtSign(url))\n",
    "  features.append(getLength(url))\n",
    "  features.append(getDepth(url))\n",
    "  features.append(redirection(url))\n",
    "  features.append(httpDomain(url))\n",
    "  features.append(tinyURL(url))\n",
    "  features.append(prefixSuffix(url))\n",
    "  \n",
    "  # Domain tabanlı özellikler  (4)\n",
    "  dns = 0\n",
    "  try:\n",
    "    domain_name = whois.whois(urlparse(url).netloc)\n",
    "  except:\n",
    "    dns = 1\n",
    "\n",
    "  features.append(dns)\n",
    "  features.append(web_traffic(url))\n",
    "  features.append(1 if dns == 1 else domainAge(domain_name))\n",
    "  features.append(1 if dns == 1 else domainEnd(domain_name))\n",
    "  \n",
    "  # HTML & Javascript tabanlı özellikler (4)\n",
    "  try:\n",
    "    response = requests.get(url)\n",
    "  except:\n",
    "    response = \"\"\n",
    "  features.append(iframe(response))\n",
    "  features.append(mouseOver(response))\n",
    "  features.append(rightClick(response))\n",
    "  features.append(forwarding(response))\n",
    "  features.append(label)\n",
    "  \n",
    "  return features"
   ]
  },
  {
   "cell_type": "code",
   "execution_count": 44,
   "id": "3c467355-d046-4378-8864-a3507bf992f5",
   "metadata": {},
   "outputs": [
    {
     "data": {
      "text/plain": [
       "(5000, 1)"
      ]
     },
     "execution_count": 44,
     "metadata": {},
     "output_type": "execute_result"
    }
   ],
   "source": [
    "# Legitimate URL (legal bağlantılar) için özellik çıkarma işlemi\n",
    "legiurl.shape"
   ]
  },
  {
   "cell_type": "code",
   "execution_count": null,
   "id": "644c7899-4c88-4922-871f-3fc5411ba0d1",
   "metadata": {},
   "outputs": [],
   "source": [
    "# özelliklerin çıkarılması ve listede saklanması\n",
    "legi_features = [] \n",
    "label = 0\n",
    "\n",
    "for i in range(0, 5000):\n",
    "  url = legiurl['URLs'][i]\n",
    "  legi_features.append(featureExtraction(url,label))"
   ]
  },
  {
   "cell_type": "code",
   "execution_count": null,
   "id": "14dbe58b-3911-4500-871f-c9d45bef0845",
   "metadata": {},
   "outputs": [],
   "source": [
    "# listeye dataframe'e dönüştürüyoruz\n",
    "feature_names = ['Domain', 'Have_IP', 'Have_At', 'URL_Length', 'URL_Depth','Redirection', \n",
    "                      'https_Domain', 'TinyURL', 'Prefix/Suffix', 'DNS_Record', 'Web_Traffic', \n",
    "                      'Domain_Age', 'Domain_End', 'iFrame', 'Mouse_Over','Right_Click', 'Web_Forwards', 'Label']\n",
    "\n",
    "legitimate = pd.DataFrame(legi_features, columns= feature_names)\n",
    "legitimate.head()"
   ]
  },
  {
   "cell_type": "code",
   "execution_count": null,
   "id": "6b24e2b2-25cd-4559-8778-bf62a71a62a0",
   "metadata": {},
   "outputs": [],
   "source": []
  }
 ],
 "metadata": {
  "kernelspec": {
   "display_name": "Python 3 (ipykernel)",
   "language": "python",
   "name": "python3"
  },
  "language_info": {
   "codemirror_mode": {
    "name": "ipython",
    "version": 3
   },
   "file_extension": ".py",
   "mimetype": "text/x-python",
   "name": "python",
   "nbconvert_exporter": "python",
   "pygments_lexer": "ipython3",
   "version": "3.10.7"
  }
 },
 "nbformat": 4,
 "nbformat_minor": 5
}
